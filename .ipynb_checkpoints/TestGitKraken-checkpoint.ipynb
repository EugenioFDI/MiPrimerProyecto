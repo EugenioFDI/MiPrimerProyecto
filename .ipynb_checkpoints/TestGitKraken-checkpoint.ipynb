{
 "cells": [
  {
   "cell_type": "markdown",
   "metadata": {},
   "source": [
    "## Presentación\n"
   ]
  },
  {
   "cell_type": "markdown",
   "metadata": {},
   "source": [
    "- **Nombre:** Eugenio Ferretis Díaz Infante\n",
    "- Profesión: <font color = green> Estudiante </font>\n",
    "- Edad: **21 años**\n",
    "- Pasatiempos: leer, caminar con rumbo fijo.\n",
    "- Educación: ITESO"
   ]
  },
  {
   "cell_type": "markdown",
   "metadata": {},
   "source": [
    "Foto:\n",
    "    <img src=\"https://upload.wikimedia.org/wikipedia/commons/thumb/f/f8/Engraving_of_First_Vatican_Council.jpg/800px-Engraving_of_First_Vatican_Council.jpg\" width=\"150px\" height=\"50px\"/>\n",
    "    "
   ]
  },
  {
   "cell_type": "markdown",
   "metadata": {},
   "source": [
    "Ecuaciones...\n"
   ]
  },
  {
   "cell_type": "markdown",
   "metadata": {},
   "source": [
    "$f(x) = \\sin(x)$"
   ]
  },
  {
   "cell_type": "code",
   "execution_count": 5,
   "metadata": {},
   "outputs": [
    {
     "ename": "NameError",
     "evalue": "name 'sin' is not defined",
     "output_type": "error",
     "traceback": [
      "\u001b[1;31m---------------------------------------------------------------------------\u001b[0m",
      "\u001b[1;31mNameError\u001b[0m                                 Traceback (most recent call last)",
      "\u001b[1;32m<ipython-input-5-65663e14bc4a>\u001b[0m in \u001b[0;36m<module>\u001b[1;34m()\u001b[0m\n\u001b[0;32m      4\u001b[0m \u001b[0mx\u001b[0m \u001b[1;33m=\u001b[0m \u001b[0mnp\u001b[0m\u001b[1;33m.\u001b[0m\u001b[0mlinspace\u001b[0m\u001b[1;33m(\u001b[0m\u001b[1;33m-\u001b[0m\u001b[1;36m2\u001b[0m\u001b[1;33m*\u001b[0m\u001b[0mnp\u001b[0m\u001b[1;33m.\u001b[0m\u001b[0mpi\u001b[0m\u001b[1;33m,\u001b[0m \u001b[1;36m2\u001b[0m\u001b[1;33m*\u001b[0m\u001b[0mnp\u001b[0m\u001b[1;33m.\u001b[0m\u001b[0mpi\u001b[0m\u001b[1;33m,\u001b[0m \u001b[1;36m100\u001b[0m\u001b[1;33m)\u001b[0m\u001b[1;33m\u001b[0m\u001b[0m\n\u001b[0;32m      5\u001b[0m \u001b[0mplt\u001b[0m\u001b[1;33m.\u001b[0m\u001b[0mfigure\u001b[0m\u001b[1;33m(\u001b[0m\u001b[0mfigsize\u001b[0m \u001b[1;33m=\u001b[0m \u001b[1;33m(\u001b[0m\u001b[1;36m4\u001b[0m\u001b[1;33m,\u001b[0m\u001b[1;36m3\u001b[0m\u001b[1;33m)\u001b[0m\u001b[1;33m)\u001b[0m\u001b[1;33m\u001b[0m\u001b[0m\n\u001b[1;32m----> 6\u001b[1;33m \u001b[0mplt\u001b[0m\u001b[1;33m.\u001b[0m\u001b[0mplot\u001b[0m \u001b[1;33m(\u001b[0m\u001b[0mx\u001b[0m\u001b[1;33m,\u001b[0m \u001b[0msin\u001b[0m\u001b[1;33m(\u001b[0m\u001b[0mx\u001b[0m\u001b[1;33m)\u001b[0m\u001b[1;33m)\u001b[0m\u001b[1;33m\u001b[0m\u001b[0m\n\u001b[0m",
      "\u001b[1;31mNameError\u001b[0m: name 'sin' is not defined"
     ]
    },
    {
     "data": {
      "text/plain": [
       "<Figure size 288x216 with 0 Axes>"
      ]
     },
     "metadata": {},
     "output_type": "display_data"
    }
   ],
   "source": [
    "import matplotlib.pyplot as plt\n",
    "import numpy as np\n",
    "%matplotlib inline\n",
    "x = np.linspace(-2*np.pi, 2*np.pi, 100)\n",
    "plt.figure(figsize = (4,3))\n",
    "plt.plot (x, sin(x))"
   ]
  },
  {
   "cell_type": "markdown",
   "metadata": {},
   "source": [
    "$$\\frac{df}{dx} = -\\nabla\\psi$$"
   ]
  },
  {
   "cell_type": "markdown",
   "metadata": {},
   "source": [
    "## Minichatbot, Alicia"
   ]
  },
  {
   "cell_type": "code",
   "execution_count": 1,
   "metadata": {},
   "outputs": [],
   "source": [
    "q1 = \"¿Cómo te llamas?\"\n",
    "q2 = \"¿Qué edad tienes?\"\n",
    "q3 = \"¿Dónde vives?\"\n",
    "q4 = \"¿Sexo?\""
   ]
  },
  {
   "cell_type": "code",
   "execution_count": 2,
   "metadata": {},
   "outputs": [
    {
     "data": {
      "text/plain": [
       "['¿Cómo te llamas?', '¿Qué edad tienes?', '¿Dónde vives?', '¿Sexo?']"
      ]
     },
     "execution_count": 2,
     "metadata": {},
     "output_type": "execute_result"
    }
   ],
   "source": [
    "qs = [q1, q2, q3, q4]\n",
    "qs\n"
   ]
  },
  {
   "cell_type": "code",
   "execution_count": 3,
   "metadata": {},
   "outputs": [],
   "source": [
    "ans1 = \"Mucho Gusto, me llamo Alicia\"\n",
    "ans2 = \"Legal!\"\n",
    "ans3 = \"Órale, muy bien.\"\n",
    "ans4 = \"Primero vamos a cenar\"\n"
   ]
  },
  {
   "cell_type": "code",
   "execution_count": 4,
   "metadata": {},
   "outputs": [
    {
     "data": {
      "text/plain": [
       "['Mucho Gusto, me llamo Alicia',\n",
       " 'Legal!',\n",
       " 'Órale, muy bien.',\n",
       " 'Primero vamos a cenar']"
      ]
     },
     "execution_count": 4,
     "metadata": {},
     "output_type": "execute_result"
    }
   ],
   "source": [
    "anss = [ans1, ans2, ans3, ans4]\n",
    "anss"
   ]
  },
  {
   "cell_type": "code",
   "execution_count": 12,
   "metadata": {},
   "outputs": [],
   "source": [
    "def chatAlicia():\n",
    "    print(\"Hola, bienvenue! Tengo algunas preguntas para ti\")\n",
    "    print(qs[0])\n",
    "    nombre = input(\">>>  \")\n",
    "    print(anss[0] + \" Me gusta tu nombre, %s\" % nombre)\n",
    "    print(\"Segunda pregunta: \")\n",
    "    print(qs[1])\n",
    "    edad = input(\">>>  \")\n",
    "    print(\"Ah, ya vas a cumplir %s\" % (int(edad) + 1))\n",
    "    print(anss[1])\n",
    "    print(qs[2])\n",
    "    input(\">>>  \")\n",
    "    print(anss[2])\n",
    "    print(qs[3])\n",
    "    input(\">>>  \")\n",
    "    print(anss[3])\n",
    "    "
   ]
  },
  {
   "cell_type": "code",
   "execution_count": 13,
   "metadata": {},
   "outputs": [
    {
     "name": "stdout",
     "output_type": "stream",
     "text": [
      "Hola, bienvenue! Tengo algunas preguntas para ti\n",
      "¿Cómo te llamas?\n",
      ">>>  Eugenio\n",
      "Mucho Gusto, me llamo Alicia Me gusta tu nombre, Eugenio\n",
      "Segunda pregunta: \n",
      "¿Qué edad tienes?\n",
      ">>>  212\n",
      "Ah, ya vas a cumplir 213\n",
      "Legal!\n",
      "¿Dónde vives?\n",
      ">>>  en tu cola\n",
      "Órale, muy bien.\n",
      "¿Sexo?\n",
      ">>>  Si\n",
      "Primero vamos a cenar\n"
     ]
    }
   ],
   "source": [
    "chatAlicia()"
   ]
  },
  {
   "cell_type": "code",
   "execution_count": null,
   "metadata": {},
   "outputs": [],
   "source": []
  }
 ],
 "metadata": {
  "kernelspec": {
   "display_name": "Python 3",
   "language": "python",
   "name": "python3"
  },
  "language_info": {
   "codemirror_mode": {
    "name": "ipython",
    "version": 3
   },
   "file_extension": ".py",
   "mimetype": "text/x-python",
   "name": "python",
   "nbconvert_exporter": "python",
   "pygments_lexer": "ipython3",
   "version": "3.6.5"
  }
 },
 "nbformat": 4,
 "nbformat_minor": 2
}
